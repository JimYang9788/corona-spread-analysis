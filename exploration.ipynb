{
 "cells": [
  {
   "cell_type": "code",
   "execution_count": 34,
   "metadata": {},
   "outputs": [],
   "source": [
    "import pandas as pd \n",
    "\n",
    "cov19_df  = pd.read_csv(\"dataset/covid_19_data.csv\")"
   ]
  },
  {
   "cell_type": "markdown",
   "metadata": {},
   "source": [
    "Here looking at the total number of death caused by cov19_df.\n",
    "Up until March.28th, 2020, we have about 32000 people died \n",
    "due to covid-19"
   ]
  },
  {
   "cell_type": "code",
   "execution_count": 37,
   "metadata": {},
   "outputs": [
    {
     "data": {
      "text/plain": [
       "320346.0"
      ]
     },
     "execution_count": 37,
     "metadata": {},
     "output_type": "execute_result"
    }
   ],
   "source": [
    "cov19_df['Deaths'].sum()"
   ]
  },
  {
   "cell_type": "markdown",
   "metadata": {},
   "source": [
    "Looking at the cov19 by countries, we see that mainland china, not surprisingly, is still at the top of total number of people infected. "
   ]
  },
  {
   "cell_type": "code",
   "execution_count": 30,
   "metadata": {},
   "outputs": [
    {
     "data": {
      "text/html": [
       "<div>\n",
       "<style scoped>\n",
       "    .dataframe tbody tr th:only-of-type {\n",
       "        vertical-align: middle;\n",
       "    }\n",
       "\n",
       "    .dataframe tbody tr th {\n",
       "        vertical-align: top;\n",
       "    }\n",
       "\n",
       "    .dataframe thead th {\n",
       "        text-align: right;\n",
       "    }\n",
       "</style>\n",
       "<table border=\"1\" class=\"dataframe\">\n",
       "  <thead>\n",
       "    <tr style=\"text-align: right;\">\n",
       "      <th></th>\n",
       "      <th>SNo</th>\n",
       "      <th>Confirmed</th>\n",
       "      <th>Deaths</th>\n",
       "      <th>Recovered</th>\n",
       "    </tr>\n",
       "    <tr>\n",
       "      <th>Country/Region</th>\n",
       "      <th></th>\n",
       "      <th></th>\n",
       "      <th></th>\n",
       "      <th></th>\n",
       "    </tr>\n",
       "  </thead>\n",
       "  <tbody>\n",
       "    <tr>\n",
       "      <th>Mainland China</th>\n",
       "      <td>6522912</td>\n",
       "      <td>3931798.0</td>\n",
       "      <td>135734.0</td>\n",
       "      <td>2155575.0</td>\n",
       "    </tr>\n",
       "    <tr>\n",
       "      <th>Italy</th>\n",
       "      <td>206847</td>\n",
       "      <td>905869.0</td>\n",
       "      <td>81731.0</td>\n",
       "      <td>102745.0</td>\n",
       "    </tr>\n",
       "    <tr>\n",
       "      <th>US</th>\n",
       "      <td>10234023</td>\n",
       "      <td>596587.0</td>\n",
       "      <td>8885.0</td>\n",
       "      <td>4119.0</td>\n",
       "    </tr>\n",
       "    <tr>\n",
       "      <th>Spain</th>\n",
       "      <td>207586</td>\n",
       "      <td>478543.0</td>\n",
       "      <td>31580.0</td>\n",
       "      <td>52516.0</td>\n",
       "    </tr>\n",
       "    <tr>\n",
       "      <th>Iran</th>\n",
       "      <td>185925</td>\n",
       "      <td>403155.0</td>\n",
       "      <td>26076.0</td>\n",
       "      <td>131885.0</td>\n",
       "    </tr>\n",
       "  </tbody>\n",
       "</table>\n",
       "</div>"
      ],
      "text/plain": [
       "                     SNo  Confirmed    Deaths  Recovered\n",
       "Country/Region                                          \n",
       "Mainland China   6522912  3931798.0  135734.0  2155575.0\n",
       "Italy             206847   905869.0   81731.0   102745.0\n",
       "US              10234023   596587.0    8885.0     4119.0\n",
       "Spain             207586   478543.0   31580.0    52516.0\n",
       "Iran              185925   403155.0   26076.0   131885.0"
      ]
     },
     "execution_count": 30,
     "metadata": {},
     "output_type": "execute_result"
    }
   ],
   "source": [
    "cov19_df_country = cov19_df.groupby (['Country/Region']).sum()\n",
    "cov19_df_country = cov19_df_country.sort_values(by=['Confirmed'],ascending=False)\n",
    "cov19_df_country.sort_values(by=['Confirmed'],ascending=False).head()"
   ]
  },
  {
   "cell_type": "code",
   "execution_count": 33,
   "metadata": {},
   "outputs": [
    {
     "data": {
      "text/html": [
       "<div>\n",
       "<style scoped>\n",
       "    .dataframe tbody tr th:only-of-type {\n",
       "        vertical-align: middle;\n",
       "    }\n",
       "\n",
       "    .dataframe tbody tr th {\n",
       "        vertical-align: top;\n",
       "    }\n",
       "\n",
       "    .dataframe thead th {\n",
       "        text-align: right;\n",
       "    }\n",
       "</style>\n",
       "<table border=\"1\" class=\"dataframe\">\n",
       "  <thead>\n",
       "    <tr style=\"text-align: right;\">\n",
       "      <th></th>\n",
       "      <th>SNo</th>\n",
       "      <th>Confirmed</th>\n",
       "      <th>Deaths</th>\n",
       "      <th>Recovered</th>\n",
       "      <th>CurrentInfected</th>\n",
       "    </tr>\n",
       "    <tr>\n",
       "      <th>Country/Region</th>\n",
       "      <th></th>\n",
       "      <th></th>\n",
       "      <th></th>\n",
       "      <th></th>\n",
       "      <th></th>\n",
       "    </tr>\n",
       "  </thead>\n",
       "  <tbody>\n",
       "    <tr>\n",
       "      <th>Mainland China</th>\n",
       "      <td>6522912</td>\n",
       "      <td>3931798.0</td>\n",
       "      <td>135734.0</td>\n",
       "      <td>2155575.0</td>\n",
       "      <td>1640489.0</td>\n",
       "    </tr>\n",
       "    <tr>\n",
       "      <th>Italy</th>\n",
       "      <td>206847</td>\n",
       "      <td>905869.0</td>\n",
       "      <td>81731.0</td>\n",
       "      <td>102745.0</td>\n",
       "      <td>721393.0</td>\n",
       "    </tr>\n",
       "    <tr>\n",
       "      <th>US</th>\n",
       "      <td>10234023</td>\n",
       "      <td>596587.0</td>\n",
       "      <td>8885.0</td>\n",
       "      <td>4119.0</td>\n",
       "      <td>583583.0</td>\n",
       "    </tr>\n",
       "    <tr>\n",
       "      <th>Spain</th>\n",
       "      <td>207586</td>\n",
       "      <td>478543.0</td>\n",
       "      <td>31580.0</td>\n",
       "      <td>52516.0</td>\n",
       "      <td>394447.0</td>\n",
       "    </tr>\n",
       "    <tr>\n",
       "      <th>Germany</th>\n",
       "      <td>207950</td>\n",
       "      <td>387969.0</td>\n",
       "      <td>1923.0</td>\n",
       "      <td>29617.0</td>\n",
       "      <td>356429.0</td>\n",
       "    </tr>\n",
       "  </tbody>\n",
       "</table>\n",
       "</div>"
      ],
      "text/plain": [
       "                     SNo  Confirmed    Deaths  Recovered  CurrentInfected\n",
       "Country/Region                                                           \n",
       "Mainland China   6522912  3931798.0  135734.0  2155575.0        1640489.0\n",
       "Italy             206847   905869.0   81731.0   102745.0         721393.0\n",
       "US              10234023   596587.0    8885.0     4119.0         583583.0\n",
       "Spain             207586   478543.0   31580.0    52516.0         394447.0\n",
       "Germany           207950   387969.0    1923.0    29617.0         356429.0"
      ]
     },
     "execution_count": 33,
     "metadata": {},
     "output_type": "execute_result"
    }
   ],
   "source": [
    "cov19_df_country['CurrentInfected'] = cov19_df_country.apply(lambda row: row['Confirmed']-row['Recovered']-row['Deaths'],axis=1)\n",
    "cov19_df_country.sort_values(by=['CurrentInfected'],ascending=False).head()"
   ]
  }
 ],
 "metadata": {
  "kernelspec": {
   "display_name": "Python 3",
   "language": "python",
   "name": "python3"
  },
  "language_info": {
   "codemirror_mode": {
    "name": "ipython",
    "version": 3
   },
   "file_extension": ".py",
   "mimetype": "text/x-python",
   "name": "python",
   "nbconvert_exporter": "python",
   "pygments_lexer": "ipython3",
   "version": "3.7.6"
  }
 },
 "nbformat": 4,
 "nbformat_minor": 4
}
